{
 "cells": [
  {
   "cell_type": "code",
   "execution_count": 33,
   "id": "4ce09540-e42d-487a-a3fb-a67d37bd2947",
   "metadata": {},
   "outputs": [],
   "source": [
    "import nltk"
   ]
  },
  {
   "cell_type": "code",
   "execution_count": 34,
   "id": "ae219c5c-10c7-4aaa-b108-d6af964621fa",
   "metadata": {},
   "outputs": [
    {
     "name": "stderr",
     "output_type": "stream",
     "text": [
      "[nltk_data] Downloading package punkt to\n",
      "[nltk_data]     /home/adityapadekar/nltk_data...\n",
      "[nltk_data]   Package punkt is already up-to-date!\n",
      "[nltk_data] Downloading package stopwords to\n",
      "[nltk_data]     /home/adityapadekar/nltk_data...\n",
      "[nltk_data]   Package stopwords is already up-to-date!\n",
      "[nltk_data] Downloading package averaged_perceptron_tagger to\n",
      "[nltk_data]     /home/adityapadekar/nltk_data...\n",
      "[nltk_data]   Package averaged_perceptron_tagger is already up-to-\n",
      "[nltk_data]       date!\n",
      "[nltk_data] Downloading package wordnet to\n",
      "[nltk_data]     /home/adityapadekar/nltk_data...\n"
     ]
    },
    {
     "data": {
      "text/plain": [
       "True"
      ]
     },
     "execution_count": 34,
     "metadata": {},
     "output_type": "execute_result"
    }
   ],
   "source": [
    "nltk.download('punkt')\n",
    "nltk.download('stopwords')\n",
    "nltk.download('averaged_perceptron_tagger')\n",
    "nltk.download('wordnet')"
   ]
  },
  {
   "cell_type": "code",
   "execution_count": 35,
   "id": "a688f4b6-dbf2-4866-ab03-c59edc753e77",
   "metadata": {},
   "outputs": [],
   "source": [
    "f1 = \"\"\n",
    "f2 = \"\"\n",
    "with open('doc_01.txt','r') as file:\n",
    "    f1 = file.read()\n",
    "with open('doc_02.txt','r') as file:\n",
    "    f2 = file.read()\n"
   ]
  },
  {
   "cell_type": "code",
   "execution_count": 36,
   "id": "923b171a-0906-4f7d-aa8b-6e976851421f",
   "metadata": {},
   "outputs": [
    {
     "data": {
      "text/plain": [
       "'Hi my name is Aditya and I study in DYPCOE. I am studying computer engineering and I am in my 3rd year.'"
      ]
     },
     "execution_count": 36,
     "metadata": {},
     "output_type": "execute_result"
    }
   ],
   "source": [
    "f1"
   ]
  },
  {
   "cell_type": "code",
   "execution_count": 37,
   "id": "5b98ef85-6697-40d5-b56e-b547ec93aa7a",
   "metadata": {},
   "outputs": [],
   "source": [
    "words = nltk.word_tokenize(f1)\n",
    "sentences = nltk.sent_tokenize(f1)"
   ]
  },
  {
   "cell_type": "code",
   "execution_count": 38,
   "id": "c3a169ea-d463-497e-a7f5-af93299a6471",
   "metadata": {},
   "outputs": [
    {
     "data": {
      "text/plain": [
       "['Hi',\n",
       " 'my',\n",
       " 'name',\n",
       " 'is',\n",
       " 'Aditya',\n",
       " 'and',\n",
       " 'I',\n",
       " 'study',\n",
       " 'in',\n",
       " 'DYPCOE',\n",
       " '.',\n",
       " 'I',\n",
       " 'am',\n",
       " 'studying',\n",
       " 'computer',\n",
       " 'engineering',\n",
       " 'and',\n",
       " 'I',\n",
       " 'am',\n",
       " 'in',\n",
       " 'my',\n",
       " '3rd',\n",
       " 'year',\n",
       " '.']"
      ]
     },
     "execution_count": 38,
     "metadata": {},
     "output_type": "execute_result"
    }
   ],
   "source": [
    "words"
   ]
  },
  {
   "cell_type": "code",
   "execution_count": 39,
   "id": "5a36ee76-d396-40ac-938f-f8645a8fe344",
   "metadata": {},
   "outputs": [
    {
     "data": {
      "text/plain": [
       "['Hi my name is Aditya and I study in DYPCOE.',\n",
       " 'I am studying computer engineering and I am in my 3rd year.']"
      ]
     },
     "execution_count": 39,
     "metadata": {},
     "output_type": "execute_result"
    }
   ],
   "source": [
    "sentences"
   ]
  },
  {
   "cell_type": "code",
   "execution_count": 40,
   "id": "7cd20be6-184a-43a4-8735-6be26336e8c5",
   "metadata": {},
   "outputs": [],
   "source": [
    "word_pog_tag = nltk.pos_tag(words)"
   ]
  },
  {
   "cell_type": "code",
   "execution_count": 41,
   "id": "ed6f12f1-e841-43a7-ba27-19a687746690",
   "metadata": {},
   "outputs": [
    {
     "data": {
      "text/plain": [
       "[('Hi', 'NNP'),\n",
       " ('my', 'PRP$'),\n",
       " ('name', 'NN'),\n",
       " ('is', 'VBZ'),\n",
       " ('Aditya', 'NNP'),\n",
       " ('and', 'CC'),\n",
       " ('I', 'PRP'),\n",
       " ('study', 'VBP'),\n",
       " ('in', 'IN'),\n",
       " ('DYPCOE', 'NNP'),\n",
       " ('.', '.'),\n",
       " ('I', 'PRP'),\n",
       " ('am', 'VBP'),\n",
       " ('studying', 'VBG'),\n",
       " ('computer', 'NN'),\n",
       " ('engineering', 'NN'),\n",
       " ('and', 'CC'),\n",
       " ('I', 'PRP'),\n",
       " ('am', 'VBP'),\n",
       " ('in', 'IN'),\n",
       " ('my', 'PRP$'),\n",
       " ('3rd', 'CD'),\n",
       " ('year', 'NN'),\n",
       " ('.', '.')]"
      ]
     },
     "execution_count": 41,
     "metadata": {},
     "output_type": "execute_result"
    }
   ],
   "source": [
    "word_pog_tag"
   ]
  },
  {
   "cell_type": "code",
   "execution_count": 42,
   "id": "bb96e886-0d31-4419-a4bd-bf37ddb6ce1c",
   "metadata": {},
   "outputs": [],
   "source": [
    "stop_words = set(nltk.corpus.stopwords.words('english'))"
   ]
  },
  {
   "cell_type": "code",
   "execution_count": 43,
   "id": "da6e34e4-2ed7-4448-abc8-78255ea1f4a2",
   "metadata": {},
   "outputs": [],
   "source": [
    "word_removed_stopwords = [token for token in words if token.lower() not in stop_words]"
   ]
  },
  {
   "cell_type": "code",
   "execution_count": 44,
   "id": "2ab66a78-5e78-4526-a2c3-df9a1a7a5707",
   "metadata": {},
   "outputs": [
    {
     "data": {
      "text/plain": [
       "['Hi',\n",
       " 'name',\n",
       " 'Aditya',\n",
       " 'study',\n",
       " 'DYPCOE',\n",
       " '.',\n",
       " 'studying',\n",
       " 'computer',\n",
       " 'engineering',\n",
       " '3rd',\n",
       " 'year',\n",
       " '.']"
      ]
     },
     "execution_count": 44,
     "metadata": {},
     "output_type": "execute_result"
    }
   ],
   "source": [
    "word_removed_stopwords"
   ]
  },
  {
   "cell_type": "code",
   "execution_count": 45,
   "id": "98d53293-2567-47c2-a8ca-2b7ab7677d7c",
   "metadata": {},
   "outputs": [],
   "source": [
    "lem = nltk.stem.WordNetLemmatizer()"
   ]
  },
  {
   "cell_type": "code",
   "execution_count": 48,
   "id": "b03f14d1-f423-419f-9161-808407722638",
   "metadata": {},
   "outputs": [],
   "source": [
    "lem_tokens = [lem.lemmatize(token) for token in word_removed_stopwords]"
   ]
  },
  {
   "cell_type": "code",
   "execution_count": 49,
   "id": "974c24e9-ceac-48c7-96df-5ea250e65b4f",
   "metadata": {},
   "outputs": [
    {
     "data": {
      "text/plain": [
       "['Hi',\n",
       " 'name',\n",
       " 'Aditya',\n",
       " 'study',\n",
       " 'DYPCOE',\n",
       " '.',\n",
       " 'studying',\n",
       " 'computer',\n",
       " 'engineering',\n",
       " '3rd',\n",
       " 'year',\n",
       " '.']"
      ]
     },
     "execution_count": 49,
     "metadata": {},
     "output_type": "execute_result"
    }
   ],
   "source": [
    "lem_tokens"
   ]
  },
  {
   "cell_type": "code",
   "execution_count": 50,
   "id": "ff2ee871-2675-4d88-b9db-fe02654f2adf",
   "metadata": {},
   "outputs": [
    {
     "name": "stdout",
     "output_type": "stream",
     "text": [
      "['hi', 'name', 'aditya', 'studi', 'dypco', '.', 'studi', 'comput', 'engin', '3rd', 'year', '.']\n"
     ]
    }
   ],
   "source": [
    "stemmer = nltk.stem.PorterStemmer()\n",
    "stemmed_tokens = [stemmer.stem(token) for token in word_removed_stopwords]\n",
    "print(stemmed_tokens)"
   ]
  },
  {
   "cell_type": "code",
   "execution_count": null,
   "id": "1e5df9e0-c139-4d77-ba82-666f96690eca",
   "metadata": {},
   "outputs": [],
   "source": []
  }
 ],
 "metadata": {
  "kernelspec": {
   "display_name": "Python 3 (ipykernel)",
   "language": "python",
   "name": "python3"
  },
  "language_info": {
   "codemirror_mode": {
    "name": "ipython",
    "version": 3
   },
   "file_extension": ".py",
   "mimetype": "text/x-python",
   "name": "python",
   "nbconvert_exporter": "python",
   "pygments_lexer": "ipython3",
   "version": "3.10.12"
  }
 },
 "nbformat": 4,
 "nbformat_minor": 5
}
